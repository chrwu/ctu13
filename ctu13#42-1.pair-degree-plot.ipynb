{
 "cells": [
  {
   "cell_type": "code",
   "execution_count": 1,
   "metadata": {
    "collapsed": false
   },
   "outputs": [
    {
     "name": "stdout",
     "output_type": "stream",
     "text": [
      "ctu13#42-1.pair-degree-plot.ipynb\r\n"
     ]
    }
   ],
   "source": [
    "%ls"
   ]
  },
  {
   "cell_type": "code",
   "execution_count": 2,
   "metadata": {
    "collapsed": true
   },
   "outputs": [],
   "source": [
    "import pandas as pd"
   ]
  },
  {
   "cell_type": "code",
   "execution_count": 3,
   "metadata": {
    "collapsed": false
   },
   "outputs": [],
   "source": [
    "path = '../data/capture20110810.binetflow'\n",
    "\n",
    "data = pd.read_csv(path)"
   ]
  },
  {
   "cell_type": "code",
   "execution_count": 4,
   "metadata": {
    "collapsed": false
   },
   "outputs": [
    {
     "data": {
      "text/html": [
       "<div>\n",
       "<table border=\"1\" class=\"dataframe\">\n",
       "  <thead>\n",
       "    <tr style=\"text-align: right;\">\n",
       "      <th></th>\n",
       "      <th>StartTime</th>\n",
       "      <th>Dur</th>\n",
       "      <th>Proto</th>\n",
       "      <th>SrcAddr</th>\n",
       "      <th>Sport</th>\n",
       "      <th>Dir</th>\n",
       "      <th>DstAddr</th>\n",
       "      <th>Dport</th>\n",
       "      <th>State</th>\n",
       "      <th>sTos</th>\n",
       "      <th>dTos</th>\n",
       "      <th>TotPkts</th>\n",
       "      <th>TotBytes</th>\n",
       "      <th>SrcBytes</th>\n",
       "      <th>Label</th>\n",
       "    </tr>\n",
       "  </thead>\n",
       "  <tbody>\n",
       "    <tr>\n",
       "      <th>0</th>\n",
       "      <td>2011/08/10 09:46:53.047277</td>\n",
       "      <td>3550.182373</td>\n",
       "      <td>udp</td>\n",
       "      <td>212.50.71.179</td>\n",
       "      <td>39678</td>\n",
       "      <td>&lt;-&gt;</td>\n",
       "      <td>147.32.84.229</td>\n",
       "      <td>13363</td>\n",
       "      <td>CON</td>\n",
       "      <td>0.0</td>\n",
       "      <td>0.0</td>\n",
       "      <td>12</td>\n",
       "      <td>875</td>\n",
       "      <td>413</td>\n",
       "      <td>flow=Background-UDP-Established</td>\n",
       "    </tr>\n",
       "    <tr>\n",
       "      <th>1</th>\n",
       "      <td>2011/08/10 09:46:53.048843</td>\n",
       "      <td>0.000883</td>\n",
       "      <td>udp</td>\n",
       "      <td>84.13.246.132</td>\n",
       "      <td>28431</td>\n",
       "      <td>&lt;-&gt;</td>\n",
       "      <td>147.32.84.229</td>\n",
       "      <td>13363</td>\n",
       "      <td>CON</td>\n",
       "      <td>0.0</td>\n",
       "      <td>0.0</td>\n",
       "      <td>2</td>\n",
       "      <td>135</td>\n",
       "      <td>75</td>\n",
       "      <td>flow=Background-UDP-Established</td>\n",
       "    </tr>\n",
       "    <tr>\n",
       "      <th>2</th>\n",
       "      <td>2011/08/10 09:46:53.049895</td>\n",
       "      <td>0.000326</td>\n",
       "      <td>tcp</td>\n",
       "      <td>217.163.21.35</td>\n",
       "      <td>80</td>\n",
       "      <td>&lt;?&gt;</td>\n",
       "      <td>147.32.86.194</td>\n",
       "      <td>2063</td>\n",
       "      <td>FA_A</td>\n",
       "      <td>0.0</td>\n",
       "      <td>0.0</td>\n",
       "      <td>2</td>\n",
       "      <td>120</td>\n",
       "      <td>60</td>\n",
       "      <td>flow=Background</td>\n",
       "    </tr>\n",
       "    <tr>\n",
       "      <th>3</th>\n",
       "      <td>2011/08/10 09:46:53.053771</td>\n",
       "      <td>0.056966</td>\n",
       "      <td>tcp</td>\n",
       "      <td>83.3.77.74</td>\n",
       "      <td>32882</td>\n",
       "      <td>&lt;?&gt;</td>\n",
       "      <td>147.32.85.5</td>\n",
       "      <td>21857</td>\n",
       "      <td>FA_FA</td>\n",
       "      <td>0.0</td>\n",
       "      <td>0.0</td>\n",
       "      <td>3</td>\n",
       "      <td>180</td>\n",
       "      <td>120</td>\n",
       "      <td>flow=Background</td>\n",
       "    </tr>\n",
       "    <tr>\n",
       "      <th>4</th>\n",
       "      <td>2011/08/10 09:46:53.053937</td>\n",
       "      <td>3427.768066</td>\n",
       "      <td>udp</td>\n",
       "      <td>74.89.223.204</td>\n",
       "      <td>21278</td>\n",
       "      <td>&lt;-&gt;</td>\n",
       "      <td>147.32.84.229</td>\n",
       "      <td>13363</td>\n",
       "      <td>CON</td>\n",
       "      <td>0.0</td>\n",
       "      <td>0.0</td>\n",
       "      <td>42</td>\n",
       "      <td>2856</td>\n",
       "      <td>1596</td>\n",
       "      <td>flow=Background-UDP-Established</td>\n",
       "    </tr>\n",
       "  </tbody>\n",
       "</table>\n",
       "</div>"
      ],
      "text/plain": [
       "                    StartTime          Dur Proto        SrcAddr  Sport    Dir  \\\n",
       "0  2011/08/10 09:46:53.047277  3550.182373   udp  212.50.71.179  39678    <->   \n",
       "1  2011/08/10 09:46:53.048843     0.000883   udp  84.13.246.132  28431    <->   \n",
       "2  2011/08/10 09:46:53.049895     0.000326   tcp  217.163.21.35     80    <?>   \n",
       "3  2011/08/10 09:46:53.053771     0.056966   tcp     83.3.77.74  32882    <?>   \n",
       "4  2011/08/10 09:46:53.053937  3427.768066   udp  74.89.223.204  21278    <->   \n",
       "\n",
       "         DstAddr  Dport  State  sTos  dTos  TotPkts  TotBytes  SrcBytes  \\\n",
       "0  147.32.84.229  13363    CON   0.0   0.0       12       875       413   \n",
       "1  147.32.84.229  13363    CON   0.0   0.0        2       135        75   \n",
       "2  147.32.86.194   2063   FA_A   0.0   0.0        2       120        60   \n",
       "3    147.32.85.5  21857  FA_FA   0.0   0.0        3       180       120   \n",
       "4  147.32.84.229  13363    CON   0.0   0.0       42      2856      1596   \n",
       "\n",
       "                             Label  \n",
       "0  flow=Background-UDP-Established  \n",
       "1  flow=Background-UDP-Established  \n",
       "2                  flow=Background  \n",
       "3                  flow=Background  \n",
       "4  flow=Background-UDP-Established  "
      ]
     },
     "execution_count": 4,
     "metadata": {},
     "output_type": "execute_result"
    }
   ],
   "source": [
    "data.head()"
   ]
  },
  {
   "cell_type": "code",
   "execution_count": 5,
   "metadata": {
    "collapsed": false
   },
   "outputs": [],
   "source": [
    "category_col = ['Proto', 'State']\n",
    "\n",
    "def category_2_numeric(df, cate_col):\n",
    "    cnt = 0\n",
    "    cate_dict = {}\n",
    "    for key in set(list(data[cate_col])):\n",
    "        cate_dict[key] = cnt\n",
    "        cnt += 1\n",
    "\n",
    "    return data[cate_col].apply(lambda x: cate_dict[x])\n",
    "\n",
    "for key in category_col:\n",
    "    data[key] = category_2_numeric(data, key)"
   ]
  },
  {
   "cell_type": "code",
   "execution_count": 6,
   "metadata": {
    "collapsed": false
   },
   "outputs": [
    {
     "data": {
      "text/html": [
       "<div>\n",
       "<table border=\"1\" class=\"dataframe\">\n",
       "  <thead>\n",
       "    <tr style=\"text-align: right;\">\n",
       "      <th></th>\n",
       "      <th>StartTime</th>\n",
       "      <th>Dur</th>\n",
       "      <th>Proto</th>\n",
       "      <th>SrcAddr</th>\n",
       "      <th>Sport</th>\n",
       "      <th>Dir</th>\n",
       "      <th>DstAddr</th>\n",
       "      <th>Dport</th>\n",
       "      <th>State</th>\n",
       "      <th>sTos</th>\n",
       "      <th>dTos</th>\n",
       "      <th>TotPkts</th>\n",
       "      <th>TotBytes</th>\n",
       "      <th>SrcBytes</th>\n",
       "      <th>Label</th>\n",
       "    </tr>\n",
       "  </thead>\n",
       "  <tbody>\n",
       "    <tr>\n",
       "      <th>0</th>\n",
       "      <td>2011/08/10 09:46:53.047277</td>\n",
       "      <td>3550.182373</td>\n",
       "      <td>2</td>\n",
       "      <td>212.50.71.179</td>\n",
       "      <td>39678</td>\n",
       "      <td>&lt;-&gt;</td>\n",
       "      <td>147.32.84.229</td>\n",
       "      <td>13363</td>\n",
       "      <td>152</td>\n",
       "      <td>0.0</td>\n",
       "      <td>0.0</td>\n",
       "      <td>12</td>\n",
       "      <td>875</td>\n",
       "      <td>413</td>\n",
       "      <td>flow=Background-UDP-Established</td>\n",
       "    </tr>\n",
       "    <tr>\n",
       "      <th>1</th>\n",
       "      <td>2011/08/10 09:46:53.048843</td>\n",
       "      <td>0.000883</td>\n",
       "      <td>2</td>\n",
       "      <td>84.13.246.132</td>\n",
       "      <td>28431</td>\n",
       "      <td>&lt;-&gt;</td>\n",
       "      <td>147.32.84.229</td>\n",
       "      <td>13363</td>\n",
       "      <td>152</td>\n",
       "      <td>0.0</td>\n",
       "      <td>0.0</td>\n",
       "      <td>2</td>\n",
       "      <td>135</td>\n",
       "      <td>75</td>\n",
       "      <td>flow=Background-UDP-Established</td>\n",
       "    </tr>\n",
       "    <tr>\n",
       "      <th>2</th>\n",
       "      <td>2011/08/10 09:46:53.049895</td>\n",
       "      <td>0.000326</td>\n",
       "      <td>4</td>\n",
       "      <td>217.163.21.35</td>\n",
       "      <td>80</td>\n",
       "      <td>&lt;?&gt;</td>\n",
       "      <td>147.32.86.194</td>\n",
       "      <td>2063</td>\n",
       "      <td>208</td>\n",
       "      <td>0.0</td>\n",
       "      <td>0.0</td>\n",
       "      <td>2</td>\n",
       "      <td>120</td>\n",
       "      <td>60</td>\n",
       "      <td>flow=Background</td>\n",
       "    </tr>\n",
       "    <tr>\n",
       "      <th>3</th>\n",
       "      <td>2011/08/10 09:46:53.053771</td>\n",
       "      <td>0.056966</td>\n",
       "      <td>4</td>\n",
       "      <td>83.3.77.74</td>\n",
       "      <td>32882</td>\n",
       "      <td>&lt;?&gt;</td>\n",
       "      <td>147.32.85.5</td>\n",
       "      <td>21857</td>\n",
       "      <td>196</td>\n",
       "      <td>0.0</td>\n",
       "      <td>0.0</td>\n",
       "      <td>3</td>\n",
       "      <td>180</td>\n",
       "      <td>120</td>\n",
       "      <td>flow=Background</td>\n",
       "    </tr>\n",
       "    <tr>\n",
       "      <th>4</th>\n",
       "      <td>2011/08/10 09:46:53.053937</td>\n",
       "      <td>3427.768066</td>\n",
       "      <td>2</td>\n",
       "      <td>74.89.223.204</td>\n",
       "      <td>21278</td>\n",
       "      <td>&lt;-&gt;</td>\n",
       "      <td>147.32.84.229</td>\n",
       "      <td>13363</td>\n",
       "      <td>152</td>\n",
       "      <td>0.0</td>\n",
       "      <td>0.0</td>\n",
       "      <td>42</td>\n",
       "      <td>2856</td>\n",
       "      <td>1596</td>\n",
       "      <td>flow=Background-UDP-Established</td>\n",
       "    </tr>\n",
       "  </tbody>\n",
       "</table>\n",
       "</div>"
      ],
      "text/plain": [
       "                    StartTime          Dur  Proto        SrcAddr  Sport  \\\n",
       "0  2011/08/10 09:46:53.047277  3550.182373      2  212.50.71.179  39678   \n",
       "1  2011/08/10 09:46:53.048843     0.000883      2  84.13.246.132  28431   \n",
       "2  2011/08/10 09:46:53.049895     0.000326      4  217.163.21.35     80   \n",
       "3  2011/08/10 09:46:53.053771     0.056966      4     83.3.77.74  32882   \n",
       "4  2011/08/10 09:46:53.053937  3427.768066      2  74.89.223.204  21278   \n",
       "\n",
       "     Dir        DstAddr  Dport  State  sTos  dTos  TotPkts  TotBytes  \\\n",
       "0    <->  147.32.84.229  13363    152   0.0   0.0       12       875   \n",
       "1    <->  147.32.84.229  13363    152   0.0   0.0        2       135   \n",
       "2    <?>  147.32.86.194   2063    208   0.0   0.0        2       120   \n",
       "3    <?>    147.32.85.5  21857    196   0.0   0.0        3       180   \n",
       "4    <->  147.32.84.229  13363    152   0.0   0.0       42      2856   \n",
       "\n",
       "   SrcBytes                            Label  \n",
       "0       413  flow=Background-UDP-Established  \n",
       "1        75  flow=Background-UDP-Established  \n",
       "2        60                  flow=Background  \n",
       "3       120                  flow=Background  \n",
       "4      1596  flow=Background-UDP-Established  "
      ]
     },
     "execution_count": 6,
     "metadata": {},
     "output_type": "execute_result"
    }
   ],
   "source": [
    "data.head()"
   ]
  },
  {
   "cell_type": "code",
   "execution_count": 7,
   "metadata": {
    "collapsed": false
   },
   "outputs": [
    {
     "data": {
      "text/html": [
       "<div>\n",
       "<table border=\"1\" class=\"dataframe\">\n",
       "  <thead>\n",
       "    <tr style=\"text-align: right;\">\n",
       "      <th></th>\n",
       "      <th>SrcAddr</th>\n",
       "      <th>DstAddr</th>\n",
       "    </tr>\n",
       "  </thead>\n",
       "  <tbody>\n",
       "    <tr>\n",
       "      <th>0</th>\n",
       "      <td>212.50.71.179</td>\n",
       "      <td>147.32.84.229</td>\n",
       "    </tr>\n",
       "    <tr>\n",
       "      <th>1</th>\n",
       "      <td>84.13.246.132</td>\n",
       "      <td>147.32.84.229</td>\n",
       "    </tr>\n",
       "    <tr>\n",
       "      <th>2</th>\n",
       "      <td>217.163.21.35</td>\n",
       "      <td>147.32.86.194</td>\n",
       "    </tr>\n",
       "    <tr>\n",
       "      <th>3</th>\n",
       "      <td>83.3.77.74</td>\n",
       "      <td>147.32.85.5</td>\n",
       "    </tr>\n",
       "    <tr>\n",
       "      <th>4</th>\n",
       "      <td>74.89.223.204</td>\n",
       "      <td>147.32.84.229</td>\n",
       "    </tr>\n",
       "  </tbody>\n",
       "</table>\n",
       "</div>"
      ],
      "text/plain": [
       "         SrcAddr        DstAddr\n",
       "0  212.50.71.179  147.32.84.229\n",
       "1  84.13.246.132  147.32.84.229\n",
       "2  217.163.21.35  147.32.86.194\n",
       "3     83.3.77.74    147.32.85.5\n",
       "4  74.89.223.204  147.32.84.229"
      ]
     },
     "execution_count": 7,
     "metadata": {},
     "output_type": "execute_result"
    }
   ],
   "source": [
    "g_data = data.ix[:, [\"SrcAddr\", \"DstAddr\"]]\n",
    "g_data.head()"
   ]
  },
  {
   "cell_type": "code",
   "execution_count": 8,
   "metadata": {
    "collapsed": true
   },
   "outputs": [],
   "source": [
    "connection = dict()\n",
    "for item in g_data.values:\n",
    "    if tuple(item) not in connection:\n",
    "        connection[tuple(item)] = 1\n",
    "    else:\n",
    "        connection[tuple(item)] += 1"
   ]
  },
  {
   "cell_type": "code",
   "execution_count": 9,
   "metadata": {
    "collapsed": false
   },
   "outputs": [],
   "source": [
    "agg = g_data.groupby(['SrcAddr', 'DstAddr']).size()\n"
   ]
  },
  {
   "cell_type": "code",
   "execution_count": 10,
   "metadata": {
    "collapsed": false
   },
   "outputs": [],
   "source": [
    "src = {}\n",
    "dst = {}\n",
    "tmp = agg.to_frame().reset_index()\n",
    "tmp.columns = ['SrcAddr', 'DstAddr', 'count']\n"
   ]
  },
  {
   "cell_type": "code",
   "execution_count": 11,
   "metadata": {
    "collapsed": false
   },
   "outputs": [],
   "source": [
    "for index, row in tmp.iterrows():\n",
    "    \n",
    "    if str(row['SrcAddr']) not in src:\n",
    "        src[str(row['SrcAddr'])] = 1\n",
    "    else:\n",
    "        src[str(row['SrcAddr'])] += 1\n",
    "        \n",
    "    if str(row['DstAddr']) not in dst:\n",
    "        dst[str(row['DstAddr'])] = 1\n",
    "    else:\n",
    "        dst[str(row['DstAddr'])] += 1"
   ]
  },
  {
   "cell_type": "code",
   "execution_count": 12,
   "metadata": {
    "collapsed": false
   },
   "outputs": [],
   "source": [
    "import operator\n"
   ]
  },
  {
   "cell_type": "code",
   "execution_count": 13,
   "metadata": {
    "collapsed": false
   },
   "outputs": [
    {
     "data": {
      "text/plain": [
       "('147.32.84.165', 4190)"
      ]
     },
     "execution_count": 13,
     "metadata": {},
     "output_type": "execute_result"
    }
   ],
   "source": [
    "sorted_src = sorted(src.items(), key=operator.itemgetter(1))\n",
    "sorted_src[-5]"
   ]
  },
  {
   "cell_type": "code",
   "execution_count": 14,
   "metadata": {
    "collapsed": false
   },
   "outputs": [
    {
     "data": {
      "text/plain": [
       "('147.32.86.165', 2101)"
      ]
     },
     "execution_count": 14,
     "metadata": {},
     "output_type": "execute_result"
    }
   ],
   "source": [
    "sorted_dst = sorted(dst.items(), key=operator.itemgetter(1))\n",
    "sorted_dst[-5]"
   ]
  },
  {
   "cell_type": "code",
   "execution_count": 15,
   "metadata": {
    "collapsed": true
   },
   "outputs": [],
   "source": [
    "import matplotlib.pylab as plt\n",
    "import numpy as np"
   ]
  },
  {
   "cell_type": "code",
   "execution_count": 16,
   "metadata": {
    "collapsed": false
   },
   "outputs": [
    {
     "data": {
      "text/plain": [
       "542093"
      ]
     },
     "execution_count": 16,
     "metadata": {},
     "output_type": "execute_result"
    }
   ],
   "source": [
    "len(sorted_src)"
   ]
  },
  {
   "cell_type": "code",
   "execution_count": 17,
   "metadata": {
    "collapsed": false
   },
   "outputs": [],
   "source": [
    "tmp = set([ip[0] for ip in sorted_dst[-100:]])\n",
    "dict_src = {dd[0]:dd[1] for dd in sorted_src[-100:]}\n",
    "dict_dst = {dd[0]:dd[1] for dd in sorted_dst[-100:]}\n",
    "\n",
    "x = []\n",
    "y = []\n",
    "bonet = []\n",
    "bonet_ip = '147.32.84.165'\n",
    "#print(bonet_ip, \"||||\")\n",
    "\n",
    "for sip in sorted_src[-100:]:\n",
    "    ip = sip[0]\n",
    "    #print(ip)\n",
    "    if ip in tmp:\n",
    "        x.append(dict_src[ip])\n",
    "        y.append(dict_dst[ip])\n",
    "        if ip == bonet_ip:\n",
    "            bonet.append((dict_src[ip], dict_dst[ip]))\n",
    "            #print(x[-1])\n",
    "            #print(y[-1])"
   ]
  },
  {
   "cell_type": "code",
   "execution_count": 18,
   "metadata": {
    "collapsed": false
   },
   "outputs": [
    {
     "data": {
      "image/png": "[encoded data removed]",
      "text/plain": [
       "<matplotlib.figure.Figure at 0x11889e668>"
      ]
     },
     "metadata": {},
     "output_type": "display_data"
    }
   ],
   "source": [
    "plt.figure(figsize=(10, 10))\n",
    "plt.plot(x, y, 'y--')\n",
    "plt.plot(x, y, 'g.')\n",
    "\n",
    "plt.plot(bonet[0][0], bonet[0][1], 'ro')\n",
    "plt.xlabel(\"degree of src ip\")\n",
    "plt.ylabel(\"degree of dst ip\")\n",
    "plt.savefig(\"degree.png\")\n",
    "plt.show()\n",
    "\n",
    "plt.close()"
   ]
  }
 ],
 "metadata": {
  "kernelspec": {
   "display_name": "Python [conda root]",
   "language": "python",
   "name": "conda-root-py"
  },
  "language_info": {
   "codemirror_mode": {
    "name": "ipython",
    "version": 3
   },
   "file_extension": ".py",
   "mimetype": "text/x-python",
   "name": "python",
   "nbconvert_exporter": "python",
   "pygments_lexer": "ipython3",
   "version": "3.5.2"
  }
 },
 "nbformat": 4,
 "nbformat_minor": 2
}
